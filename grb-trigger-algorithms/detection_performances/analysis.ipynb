{
 "cells": [
  {
   "cell_type": "code",
   "execution_count": 10,
   "id": "5a8ad21a",
   "metadata": {
    "pycharm": {
     "name": "#%%\n"
    }
   },
   "outputs": [],
   "source": [
    "import pickle\n",
    "import numpy as np\n",
    "from scipy.stats import norm"
   ]
  },
  {
   "cell_type": "markdown",
   "id": "731389df",
   "metadata": {
    "pycharm": {
     "name": "#%% md\n"
    }
   },
   "source": [
    "# Short burst dataset"
   ]
  },
  {
   "cell_type": "markdown",
   "id": "45409155",
   "metadata": {},
   "source": [
    "Test if \n",
    "\n",
    "* samples come from different distributions\n",
    "* sample are from equal distributions"
   ]
  },
  {
   "cell_type": "code",
   "execution_count": 11,
   "id": "6df72bcc",
   "metadata": {
    "pycharm": {
     "name": "#%%\n"
    }
   },
   "outputs": [],
   "source": [
    "results_file = \"./outputs/results_dataset_grb180703949.pkl\"\n",
    "results = pickle.load(open(results_file, 'rb'))\n",
    "fluences = results[\"fluences\"]\n",
    "labels = list(results[\"true\"].keys())"
   ]
  },
  {
   "cell_type": "code",
   "execution_count": 12,
   "id": "13f7dee4",
   "metadata": {
    "pycharm": {
     "name": "#%%\n"
    }
   },
   "outputs": [],
   "source": [
    "detection_summary = {}\n",
    "\n",
    "for label in labels:\n",
    "    correct_detections = np.where(results[\"true\"][label][\"significance\"] > 0., 1, 0)\n",
    "    total_correct = np.sum(np.where(results[\"true\"][label][\"significance\"] > 0., 1, 0))\n",
    "    tests_num = np.prod(correct_detections.shape)\n",
    "    detection_summary[label] = (total_correct, tests_num)"
   ]
  },
  {
   "cell_type": "code",
   "execution_count": 13,
   "id": "d5552466",
   "metadata": {
    "pycharm": {
     "name": "#%%\n"
    }
   },
   "outputs": [
    {
     "data": {
      "text/plain": [
       "{'Exhaustive': (19024, 30000),\n",
       " 'FOCuS': (18877, 30000),\n",
       " 'FOCuS-AES': (18913, 30000),\n",
       " 'GBM': (16400, 30000),\n",
       " 'BATSE': (14100, 30000)}"
      ]
     },
     "execution_count": 13,
     "metadata": {},
     "output_type": "execute_result"
    }
   ],
   "source": [
    "detection_summary"
   ]
  },
  {
   "cell_type": "markdown",
   "id": "0fdf1e03",
   "metadata": {
    "pycharm": {
     "name": "#%% md\n"
    }
   },
   "source": [
    "We consider the hypothesis test in which:\n",
    "\n",
    "* Null hypothesis: the binomial distribution are statistically the same.\n",
    "* Alternative hypothesis: The binomial distributions are statistically different.\n",
    "\n",
    "Under the normal-binomial approximation (legit, given the sample size), the test statistic:"
   ]
  },
  {
   "cell_type": "code",
   "execution_count": 14,
   "id": "991eda3c",
   "metadata": {
    "pycharm": {
     "name": "#%%\n"
    }
   },
   "outputs": [],
   "source": [
    "def test_statistics(x1, n1, x2, n2):\n",
    "    p1 = x1 / n1\n",
    "    p2 = x2 / n2\n",
    "    p = (n1*p1 + n2*p2) / (n1 + n2)\n",
    "    ts = np.abs(p1 - p2)/np.sqrt(p * (1 - p) * (1/n1 + 1/n2))\n",
    "    return ts"
   ]
  },
  {
   "cell_type": "code",
   "execution_count": 15,
   "id": "877e8997",
   "metadata": {
    "pycharm": {
     "name": "#%%\n"
    }
   },
   "outputs": [
    {
     "name": "stdout",
     "output_type": "stream",
     "text": [
      "test statistic value between FOCuS-AES and Exhaustive: 0.94\n",
      "p value is 0.34732\n"
     ]
    }
   ],
   "source": [
    "label_1 = 'FOCuS-AES'\n",
    "label_2 = 'Exhaustive'\n",
    "z = test_statistics(\n",
    "    *detection_summary[label_1],\n",
    "    *detection_summary[label_2]\n",
    ")\n",
    "pvalue = 1 - (norm.sf(-z) - norm.sf(z))\n",
    "print(\"test statistic value between {} and {}: {:.2f}\".format(label_1, label_2, z))\n",
    "print(\"p value is {:.5f}\".format(pvalue))"
   ]
  },
  {
   "cell_type": "markdown",
   "id": "6991c96e",
   "metadata": {
    "pycharm": {
     "name": "#%% md\n"
    }
   },
   "source": [
    "We can not refuse the null hypothesis within $95\\%$ confidence level since:\n",
    "\n",
    "$$z < \\frac{z_\\alpha}{2} = 1.96$$."
   ]
  },
  {
   "cell_type": "code",
   "execution_count": 16,
   "id": "6041abfc",
   "metadata": {},
   "outputs": [
    {
     "name": "stdout",
     "output_type": "stream",
     "text": [
      "test statistic value between FOCuS and Exhaustive: 1.24\n",
      "p value is 0.21344\n"
     ]
    }
   ],
   "source": [
    "label_1 = 'FOCuS'\n",
    "label_2 = 'Exhaustive'\n",
    "z = test_statistics(\n",
    "    *detection_summary[label_1],\n",
    "    *detection_summary[label_2]\n",
    ")\n",
    "pvalue = 1 - (norm.sf(-z) - norm.sf(z))\n",
    "print(\"test statistic value between {} and {}: {:.2f}\".format(label_1, label_2, z))\n",
    "print(\"p value is {:.5f}\".format(pvalue))"
   ]
  },
  {
   "cell_type": "markdown",
   "id": "3dbcb5c6",
   "metadata": {
    "pycharm": {
     "name": "#%% md\n"
    }
   },
   "source": [
    "# Long burst dataset"
   ]
  },
  {
   "cell_type": "code",
   "execution_count": 17,
   "id": "fbc1b72b",
   "metadata": {
    "pycharm": {
     "name": "#%%\n"
    }
   },
   "outputs": [],
   "source": [
    "folder =\"20230413_160258_long/\"\n",
    "results_file = \"./outputs/results_dataset_grb120707800.pkl\"\n",
    "results = pickle.load(open(results_file, 'rb'))\n",
    "fluences = results[\"fluences\"]\n",
    "labels = list(results[\"true\"].keys())"
   ]
  },
  {
   "cell_type": "code",
   "execution_count": 18,
   "id": "269545eb",
   "metadata": {
    "pycharm": {
     "name": "#%%\n"
    }
   },
   "outputs": [],
   "source": [
    "detection_summary = {}\n",
    "\n",
    "for label in labels:\n",
    "    correct_detections = np.where(results[\"true\"][label][\"significance\"] > 0., 1, 0)\n",
    "    total_correct = np.sum(np.where(results[\"true\"][label][\"significance\"] > 0., 1, 0))\n",
    "    tests_num = np.prod(correct_detections.shape)\n",
    "    detection_summary[label] = (total_correct, tests_num)"
   ]
  },
  {
   "cell_type": "code",
   "execution_count": 19,
   "id": "b32f019a",
   "metadata": {
    "pycharm": {
     "name": "#%%\n"
    }
   },
   "outputs": [
    {
     "data": {
      "text/plain": [
       "{'Exhaustive': (25001, 30000),\n",
       " 'FOCuS': (25072, 30000),\n",
       " 'FOCuS-AES': (21626, 30000),\n",
       " 'GBM': (18668, 30000),\n",
       " 'BATSE': (13360, 30000)}"
      ]
     },
     "execution_count": 19,
     "metadata": {},
     "output_type": "execute_result"
    }
   ],
   "source": [
    "detection_summary"
   ]
  },
  {
   "cell_type": "code",
   "execution_count": 20,
   "id": "03f27efd",
   "metadata": {
    "pycharm": {
     "name": "#%%\n"
    }
   },
   "outputs": [],
   "source": [
    "def test_statistics(x1, n1, x2, n2):\n",
    "    p1 = x1 / n1\n",
    "    p2 = x2 / n2\n",
    "    p = (n1*p1 + n2*p2) / (n1 + n2)\n",
    "    ts = np.abs(p1 - p2)/np.sqrt(p * (1 - p) * (1/n1 + 1/n2))\n",
    "    return ts"
   ]
  },
  {
   "cell_type": "markdown",
   "id": "2a18bd19",
   "metadata": {},
   "source": [
    "FOCuS-AES and exhaustive performed very differently over the long grb dataset."
   ]
  },
  {
   "cell_type": "code",
   "execution_count": 21,
   "id": "ffc1bf68",
   "metadata": {
    "pycharm": {
     "name": "#%%\n"
    }
   },
   "outputs": [
    {
     "name": "stdout",
     "output_type": "stream",
     "text": [
      "test statistic value between FOCuS-AES and Exhaustive: 33.11\n",
      "p value is 0.00000\n"
     ]
    }
   ],
   "source": [
    "label_1 = 'FOCuS-AES'\n",
    "label_2 = 'Exhaustive'\n",
    "z = test_statistics(\n",
    "    *detection_summary[label_1],\n",
    "    *detection_summary[label_2]\n",
    ")\n",
    "pvalue = 1 - (norm.sf(-z) - norm.sf(z))\n",
    "print(\"test statistic value between {} and {}: {:.2f}\".format(label_1, label_2, z))\n",
    "print(\"p value is {:.5f}\".format(pvalue))"
   ]
  },
  {
   "cell_type": "markdown",
   "id": "02c021a7",
   "metadata": {},
   "source": [
    "The same cannot be said for FOCuS with true background estimate."
   ]
  },
  {
   "cell_type": "code",
   "execution_count": 22,
   "id": "d5fe1a4f",
   "metadata": {},
   "outputs": [
    {
     "name": "stdout",
     "output_type": "stream",
     "text": [
      "test statistic value between FOCuS and Exhaustive: 0.78\n"
     ]
    }
   ],
   "source": [
    "label_1 = 'FOCuS'\n",
    "label_2 = 'Exhaustive'\n",
    "z = test_statistics(\n",
    "    *detection_summary[label_1],\n",
    "    *detection_summary[label_2]\n",
    ")\n",
    "print(\"test statistic value between {} and {}: {:.2f}\".format(label_1, label_2, z))"
   ]
  },
  {
   "cell_type": "code",
   "execution_count": null,
   "id": "291e23c1",
   "metadata": {},
   "outputs": [],
   "source": []
  }
 ],
 "metadata": {
  "kernelspec": {
   "display_name": "Python 3 (ipykernel)",
   "language": "python",
   "name": "python3"
  },
  "language_info": {
   "codemirror_mode": {
    "name": "ipython",
    "version": 3
   },
   "file_extension": ".py",
   "mimetype": "text/x-python",
   "name": "python",
   "nbconvert_exporter": "python",
   "pygments_lexer": "ipython3",
   "version": "3.9.12"
  }
 },
 "nbformat": 4,
 "nbformat_minor": 5
}
